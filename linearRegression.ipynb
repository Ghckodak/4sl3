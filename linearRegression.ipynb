{
 "cells": [
  {
   "cell_type": "markdown",
   "metadata": {},
   "source": [
    "# Linear Regression Lecture Code"
   ]
  },
  {
   "cell_type": "code",
   "execution_count": 1,
   "metadata": {},
   "outputs": [],
   "source": [
    "import numpy as np\n",
    "import matplotlib.pyplot as plt\n",
    "import pandas as pd"
   ]
  },
  {
   "cell_type": "code",
   "execution_count": 2,
   "metadata": {},
   "outputs": [],
   "source": [
    "from sklearn.datasets import load_diabetes\n",
    "diabetes=load_diabetes\n",
    "X_data,t=load_diabetes(return_X_y=True)      #seperate feactures"
   ]
  },
  {
   "cell_type": "code",
   "execution_count": 3,
   "metadata": {},
   "outputs": [],
   "source": [
    "#split the test into training set and test set\n",
    "from sklearn.model_selection import train_test_split    \n",
    "X_train, X_test, t_train, t_test = train_test_split(X_data,t,test_size=1/5, random_state=10) "
   ]
  },
  {
   "cell_type": "code",
   "execution_count": 4,
   "metadata": {},
   "outputs": [
    {
     "name": "stdout",
     "output_type": "stream",
     "text": [
      "(353, 10)\n",
      "(353,)\n"
     ]
    }
   ],
   "source": [
    "print(X_train.shape)\n",
    "print(t_train.shape)"
   ]
  },
  {
   "cell_type": "code",
   "execution_count": 5,
   "metadata": {},
   "outputs": [
    {
     "data": {
      "image/png": "[encoded data removed]",
      "text/plain": [
       "<Figure size 432x288 with 1 Axes>"
      ]
     },
     "metadata": {
      "needs_background": "light"
     },
     "output_type": "display_data"
    }
   ],
   "source": [
    "# visualize the data using matplot\n",
    "plt.scatter(X_train[:,1], t_train, color='magenta')\n",
    "plt.show()"
   ]
  },
  {
   "cell_type": "code",
   "execution_count": 15,
   "metadata": {},
   "outputs": [
    {
     "name": "stdout",
     "output_type": "stream",
     "text": [
      "[[ 1.          0.00538306 -0.04464164  0.05954058 -0.05616605  0.02457414\n",
      "   0.05286081 -0.04340085  0.05091436 -0.00421986 -0.03007245]\n",
      " [ 1.         -0.02730979 -0.04464164  0.08001901  0.09876313 -0.00294491\n",
      "   0.01810133 -0.01762938  0.00331192 -0.02952762  0.03620126]\n",
      " [ 1.          0.0090156  -0.04464164 -0.02452876 -0.02632783  0.0988756\n",
      "   0.0941964   0.07072993 -0.00259226 -0.02139368  0.00720652]]\n"
     ]
    }
   ],
   "source": [
    "# add a colunm full of one in the matrix\n",
    "new_col=np.ones(len(X_train))\n",
    "#print(new_col.shape)\n",
    "X=np.insert(X_train, 0, new_col,axis=1)\n",
    "print(X[0:3:])"
   ]
  },
  {
   "cell_type": "code",
   "execution_count": 7,
   "metadata": {},
   "outputs": [
    {
     "name": "stdout",
     "output_type": "stream",
     "text": [
      "[ 152.25550535   -3.89155188 -225.62880027  517.89525355  328.32132183\n",
      " -727.23345563  410.96799392   80.26601137  218.18738355  704.2805541\n",
      "   40.02247238]\n"
     ]
    }
   ],
   "source": [
    "# apply the formula w=(X^T X)^(-1) *X^T*t\n",
    "A=np.dot(X.T,X)\n",
    "A1=np.linalg.inv(A) #the inverse of A\n",
    "\n",
    "B=np.dot(X.T,t_train)\n",
    "w=np.dot(A1,B)\n",
    "print(w)"
   ]
  },
  {
   "cell_type": "code",
   "execution_count": 8,
   "metadata": {},
   "outputs": [],
   "source": [
    "# computing the predication y=Xw, see ppt pg9\n",
    "y=np.dot(X,w)"
   ]
  },
  {
   "cell_type": "code",
   "execution_count": 9,
   "metadata": {},
   "outputs": [
    {
     "name": "stdout",
     "output_type": "stream",
     "text": [
      "2851.0252092365868\n"
     ]
    }
   ],
   "source": [
    "# computing the training error\n",
    "diff_train=np.subtract(t_train,y)\n",
    "err_train=np.dot(diff_train, diff_train)/len(X_train)\n",
    "RMSE_train=np.sqrt(err_train)\n",
    "print(err_train)"
   ]
  },
  {
   "cell_type": "code",
   "execution_count": 10,
   "metadata": {},
   "outputs": [
    {
     "name": "stdout",
     "output_type": "stream",
     "text": [
      "53.96135609572058\n"
     ]
    }
   ],
   "source": [
    "# computing the test error\n",
    "new_col=np.ones(len(X_test))\n",
    "X1_test=np.insert(X_test, 0, new_col, axis=1)\n",
    "\n",
    "y_test = np.dot(X1_test,w)\n",
    "diff_test = np.subtract(t_test,y_test)\n",
    "err_test = np.dot(diff_test, diff_test)/len(X_test)\n",
    "RMSE_test = np.sqrt(err_test)\n",
    "print(RMSE_test)"
   ]
  }
 ],
 "metadata": {
  "interpreter": {
   "hash": "7b4b4feff2f24a0f0a34464dbe537a36fda679851528fb8735cb41fa49dffb2d"
  },
  "kernelspec": {
   "display_name": "Python 3.8.8 64-bit ('base': conda)",
   "name": "python3"
  },
  "language_info": {
   "codemirror_mode": {
    "name": "ipython",
    "version": 3
   },
   "file_extension": ".py",
   "mimetype": "text/x-python",
   "name": "python",
   "nbconvert_exporter": "python",
   "pygments_lexer": "ipython3",
   "version": "3.8.8"
  },
  "orig_nbformat": 4
 },
 "nbformat": 4,
 "nbformat_minor": 2
}
