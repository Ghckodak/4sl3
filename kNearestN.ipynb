{
 "cells": [
  {
   "cell_type": "code",
   "execution_count": 1,
   "source": [
    "import numpy as np\r\n",
    "import matplotlib.pyplot as plt\r\n",
    "import pandas as pd\r\n",
    "from sklearn.datasets import load_diabetes\r\n",
    "from sklearn.model_selection import train_test_split \r\n",
    "\r\n",
    "diabetes=load_diabetes\r\n",
    "X_data,t=load_diabetes(return_X_y=True) \r\n",
    "# split the data into training and validation set   \r\n",
    "X_train, X_valid, t_train, t_valid = train_test_split(X_data,t,test_size=1/5, random_state=10) "
   ],
   "outputs": [],
   "metadata": {}
  },
  {
   "cell_type": "code",
   "execution_count": 2,
   "source": [
    "N=len(X_train)\r\n",
    "M=len(X_valid)"
   ],
   "outputs": [],
   "metadata": {}
  },
  {
   "cell_type": "code",
   "execution_count": 3,
   "source": [
    "# compute the distance between each valid and train points\r\n",
    "dist=np.zeros((M,N))\r\n",
    "\r\n",
    "for i in range (M): # loop through each valid points\r\n",
    "    for j in range (N): # loop through each train points\r\n",
    "        diff=X_valid[i]-X_train[j]\r\n",
    "        dist[i,j]=np.dot(diff,diff) #squared euclidian distance\r\n",
    "\r\n",
    "print (dist[:4,:4])"
   ],
   "outputs": [
    {
     "output_type": "stream",
     "name": "stdout",
     "text": [
      "[[0.04404616 0.04007061 0.03948468 0.0388489 ]\n",
      " [0.03201822 0.01816768 0.03584266 0.02093733]\n",
      " [0.02251777 0.02951239 0.0143508  0.0356887 ]\n",
      " [0.03962282 0.04531473 0.02384332 0.02962741]]\n"
     ]
    }
   ],
   "metadata": {}
  },
  {
   "cell_type": "code",
   "execution_count": 4,
   "source": [
    "# sort the distance\r\n",
    "ind=np.argsort(dist,axis=1)     # the kth smallest element on row i is dist [ind[k]]    (axis=1: sort each rows)"
   ],
   "outputs": [],
   "metadata": {}
  },
  {
   "cell_type": "code",
   "execution_count": 5,
   "source": [
    "K=N\r\n",
    "for k in range(K):  # loop through (k+1) NN\r\n",
    "    for i in range(M):\r\n",
    "        \r\n"
   ],
   "outputs": [
    {
     "output_type": "error",
     "ename": "SyntaxError",
     "evalue": "unexpected EOF while parsing (<ipython-input-5-0f55beb7bedd>, line 5)",
     "traceback": [
      "\u001b[1;36m  File \u001b[1;32m\"<ipython-input-5-0f55beb7bedd>\"\u001b[1;36m, line \u001b[1;32m5\u001b[0m\n\u001b[1;33m    \u001b[0m\n\u001b[1;37m    ^\u001b[0m\n\u001b[1;31mSyntaxError\u001b[0m\u001b[1;31m:\u001b[0m unexpected EOF while parsing\n"
     ]
    }
   ],
   "metadata": {}
  }
 ],
 "metadata": {
  "orig_nbformat": 4,
  "language_info": {
   "name": "python",
   "version": "3.8.8",
   "mimetype": "text/x-python",
   "codemirror_mode": {
    "name": "ipython",
    "version": 3
   },
   "pygments_lexer": "ipython3",
   "nbconvert_exporter": "python",
   "file_extension": ".py"
  },
  "kernelspec": {
   "name": "python3",
   "display_name": "Python 3.8.8 64-bit ('base': conda)"
  },
  "interpreter": {
   "hash": "7b4b4feff2f24a0f0a34464dbe537a36fda679851528fb8735cb41fa49dffb2d"
  }
 },
 "nbformat": 4,
 "nbformat_minor": 2
}