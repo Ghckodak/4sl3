{
 "cells": [
  {
   "cell_type": "code",
   "execution_count": 18,
   "metadata": {},
   "outputs": [],
   "source": [
    "import numpy as np\n",
    "import matplotlib.pyplot as plt\n",
    "import pandas as pd\n",
    "from sklearn.preprocessing import StandardScaler"
   ]
  },
  {
   "cell_type": "code",
   "execution_count": 27,
   "metadata": {},
   "outputs": [
    {
     "name": "stdout",
     "output_type": "stream",
     "text": [
      "[[1.799e+01 1.038e+01 1.228e+02 ... 2.654e-01 4.601e-01 1.189e-01]\n",
      " [2.057e+01 1.777e+01 1.329e+02 ... 1.860e-01 2.750e-01 8.902e-02]\n",
      " [1.969e+01 2.125e+01 1.300e+02 ... 2.430e-01 3.613e-01 8.758e-02]\n",
      " ...\n",
      " [1.660e+01 2.808e+01 1.083e+02 ... 1.418e-01 2.218e-01 7.820e-02]\n",
      " [2.060e+01 2.933e+01 1.401e+02 ... 2.650e-01 4.087e-01 1.240e-01]\n",
      " [7.760e+00 2.454e+01 4.792e+01 ... 0.000e+00 2.871e-01 7.039e-02]]\n"
     ]
    }
   ],
   "source": [
    "from sklearn.datasets import load_breast_cancer\n",
    "cancer = load_breast_cancer()\n",
    "#print(cancer.DESCR)\n",
    "X, t = load_breast_cancer(return_X_y=True)\n",
    "#print(X)\n",
    "#print(t)"
   ]
  },
  {
   "cell_type": "code",
   "execution_count": 28,
   "metadata": {},
   "outputs": [
    {
     "name": "stdout",
     "output_type": "stream",
     "text": [
      "[[ 3.67363478  0.61144803  3.66100904 ...  2.34437188 -0.09611405\n",
      "  -0.17452236]\n",
      " [-1.32911335 -1.64698566 -1.31886818 ... -0.8324528  -0.74330911\n",
      "  -0.35457983]\n",
      " [-0.96314126 -2.30080581 -0.97408857 ... -1.08225493 -1.31717664\n",
      "  -0.39770039]\n",
      " ...\n",
      " [-0.94055039 -0.88539296 -0.90701401 ... -0.56496149 -0.53448509\n",
      "   1.4092841 ]\n",
      " [-1.45957562 -0.09985081 -1.32991094 ... -0.02905594  0.34863329\n",
      "   1.26360654]\n",
      " [ 0.55044702  0.53241483  0.5567656  ...  0.22782186  0.89858967\n",
      "  -0.44431721]]\n"
     ]
    }
   ],
   "source": [
    "#split the set\n",
    "from sklearn.model_selection import train_test_split\n",
    "X_train, X_test, t_train, t_test = train_test_split(X, t, test_size = 1/5, random_state = 25)\n",
    "#standardlize\n",
    "sc = StandardScaler()\n",
    "X_train = sc.fit_transform(X_train)\n",
    "X_test = sc.transform(X_test)\n",
    "#print(X_train)\n",
    "#print(t_train.shape)"
   ]
  },
  {
   "cell_type": "code",
   "execution_count": 21,
   "metadata": {},
   "outputs": [],
   "source": [
    "def recog_class(X_train,t_tain,class_num):\n",
    "    i0 = np.asarray(np.nonzero(t_tain == class_num))\n",
    "    [m,n] = i0.shape\n",
    "    X_train_0 = np.zeros((n,30)) #store the rearranged x_train\n",
    "    t_train_0 = np.zeros(n) #store the target\n",
    "    t_train_0 += class_num\n",
    "    for i in range(n):\n",
    "        X_train_0[i,:] = X_train[i0[0,i],:]\n",
    "    return X_train_0,t_train_0\n",
    "\n",
    "def gradient_descent(alpha,X_train_2class,t_train_2class,iterations):\n",
    "    m = len(X_train_2class)\n",
    "    n = len(t_train_2class)\n",
    "    new_col = np.ones(m)\n",
    "    x1_train_2class = np.insert(X_train_2class,0,new_col,axis=1)\n",
    "    w = np.ones(31)\n",
    "    z = np.zeros(m)\n",
    "    y = np.zeros(m)\n",
    "    cost = np.zeros(iterations)\n",
    "    for i in range (iterations):\n",
    "        z = np.dot(x1_train_2class,w)\n",
    "        y = 1/(1+np.exp(-z))\n",
    "        diff = y - t_train_2class\n",
    "        grad = np.dot(x1_train_2class.T,diff)\n",
    "        grad = grad/m\n",
    "        w = w - alpha*grad\n",
    "        for j in range(m):\n",
    "            cost[i] = cost[i] + (t_train_2class[j]*np.logaddexp(0,-z[j]) + (                        1-t_train_2class[j])*np.logaddexp(0,z[j]))\n",
    "        cost[i] = cost[i]/m\n",
    "    return w,cost,z,y\n",
    "\n",
    "\n",
    "def outputPR(y1,t_train_2class):\n",
    "    TN = 0\n",
    "    TP = 0\n",
    "    FP = 0\n",
    "    FN = 0\n",
    "    for i in range (len(y1)):\n",
    "        if (y1[i] == 0 and t_train_2class[i] == 0):\n",
    "            TN+=1\n",
    "        if (y1[i] == 1 and t_train_2class[i] == 1):\n",
    "            TP+=1\n",
    "        if (y1[i] == 0 and t_train_2class[i] == 1):\n",
    "            FN+=1\n",
    "        if (y1[i] == 1 and t_train_2class[i] == 0):\n",
    "            FP+=1\n",
    "    \n",
    "    miss_classification_rate = (FN+FP)/(TN+TP+FN+FP)\n",
    "    precise = TP/(TP+FP)\n",
    "    recall = TP/(TP+FN)\n",
    "    F1_score = 2*precise*recall/(precise+recall)\n",
    "    return precise,recall,miss_classification_rate,F1_score\n",
    "\n"
   ]
  },
  {
   "cell_type": "code",
   "execution_count": 22,
   "metadata": {},
   "outputs": [],
   "source": [
    "X_train_class0,t_train_class0 = recog_class(X_train,t_train,0)\n",
    "X_train_class1,t_train_class1 = recog_class(X_train,t_train,1)\n",
    "X_test_class0,t_test_class0 = recog_class(X_test,t_test,0)\n",
    "X_test_class1,t_test_class1 = recog_class(X_test,t_test,1)\n",
    "#print(X_train_class1.shape)\n",
    "X_train_2class = np.concatenate((X_train_class0,X_train_class1), axis=0) \n",
    "t_train_2class = np.concatenate((t_train_class0,t_train_class1), axis=0) \n",
    "X_test_2class = np.concatenate((X_test_class0,X_test_class1), axis=0) \n",
    "t_test_2class = np.concatenate((t_test_class0,t_test_class1), axis=0) \n",
    "#print(X_train_2class)\n",
    "#print(t_train_2class)"
   ]
  },
  {
   "cell_type": "code",
   "execution_count": 23,
   "metadata": {
    "tags": []
   },
   "outputs": [
    {
     "name": "stdout",
     "output_type": "stream",
     "text": [
      "Precise = 0.961038961038961\n",
      "\n",
      "Recall = 0.9866666666666667\n",
      "\n",
      "The missclassification rate is :0.03508771929824561\n",
      "\n",
      "The F1_score is: 0.9736842105263157\n",
      "\n",
      "(114,)\n",
      "(114,)\n"
     ]
    }
   ],
   "source": [
    "#computer parameter\n",
    "w,cost,z,y = gradient_descent(0.5,X_train_2class,t_train_2class,1000)\n",
    "new_col = np.ones(len(X_test))\n",
    "X1_test_2class = np.insert(X_test_2class,0,new_col,axis=1)\n",
    "z_test = np.dot(X1_test_2class,w)\n",
    "#print(z_test)\n",
    "y_test = np.zeros(len(z_test))\n",
    "for i in range(len(z_test)):\n",
    "    if(z_test[i]>=0):\n",
    "        y_test[i] = 1\n",
    "#print(y_test) \n",
    "precise,recall,miss_classification_rate,F1_score = outputPR(y_test,t_test_2class)\n",
    "#compute the result\n",
    "print('Precise = ' + str(precise) + '\\n')\n",
    "print('Recall = ' + str(recall) + '\\n')\n",
    "\n",
    "print('The missclassification rate is :' + str(miss_classification_rate)+'\\n')\n",
    "print('The F1_score is: ' + str(F1_score) + '\\n')\n",
    "print(z_test.shape)\n",
    "print(t_test_2class.shape)"
   ]
  },
  {
   "cell_type": "code",
   "execution_count": 29,
   "metadata": {
    "tags": []
   },
   "outputs": [
    {
     "data": {
      "text/plain": [
       "<matplotlib.collections.PathCollection at 0x23a330563d0>"
      ]
     },
     "execution_count": 29,
     "metadata": {},
     "output_type": "execute_result"
    },
    {
     "data": {
      "image/png": "[encoded data removed]",
      "text/plain": [
       "<Figure size 432x288 with 1 Axes>"
      ]
     },
     "metadata": {
      "needs_background": "light"
     },
     "output_type": "display_data"
    }
   ],
   "source": [
    "#comput PR Curve\n",
    "def get_PR_curve(z_test):\n",
    "    TP = 0\n",
    "    TN = 0\n",
    "    FN = 0\n",
    "    FP = 0\n",
    "    p_matrix = np.zeros(len(z_test))\n",
    "    r_matrix = np.zeros(len(z_test))\n",
    "    y_pr = np.zeros(len(z_test))\n",
    "    for i in range(len(z_test)):\n",
    "        for j in range (len(z_test)):\n",
    "            if(z_test[i]>=z_test[j]):\n",
    "                y_pr[j] = 1\n",
    "        for k in range (len(z_test)):\n",
    "            if (y_pr[k] == 0 and t_test_2class[k] == 0):\n",
    "                TN+=1\n",
    "            if (y_pr[k] == 1 and t_test_2class[k] == 1):\n",
    "                TP+=1\n",
    "            if (y_pr[k] ==1 and t_test_2class[k] == 0):\n",
    "                FP +=1\n",
    "            if (y_pr[k] == 0 and t_test_2class[k] == 1):\n",
    "                FN +=1\n",
    "        p = (TP)/(TP+FP)\n",
    "        r = (TP)/(TP+FN)\n",
    "        p_matrix[i] = p\n",
    "        r_matrix[i] = r\n",
    "    return p_matrix,r_matrix\n",
    "\n",
    "p_matrix,r_matrix = get_PR_curve(z_test)\n",
    "plt.scatter(r_matrix,p_matrix)"
   ]
  },
  {
   "cell_type": "code",
   "execution_count": 25,
   "metadata": {},
   "outputs": [
    {
     "name": "stdout",
     "output_type": "stream",
     "text": [
      "[0. 0. 0. 0. 0. 0. 0. 0. 0. 0. 0. 0. 0. 0. 0. 0. 0. 1. 0. 0. 0. 0. 0. 1.\n",
      " 1. 0. 0. 0. 0. 0. 0. 0. 0. 0. 0. 0. 0. 0. 0. 1. 1. 1. 1. 1. 1. 1. 1. 1.\n",
      " 1. 1. 1. 1. 1. 1. 1. 1. 1. 1. 1. 1. 1. 1. 1. 1. 1. 1. 1. 1. 1. 1. 1. 1.\n",
      " 1. 1. 1. 1. 1. 1. 1. 1. 1. 1. 1. 1. 1. 1. 1. 1. 1. 1. 1. 1. 1. 1. 1. 1.\n",
      " 1. 1. 1. 1. 1. 1. 1. 1. 1. 0. 1. 1. 1. 1. 1. 1. 1. 1.]\n"
     ]
    }
   ],
   "source": [
    "##Compute Prediction with scikit learn\n",
    "from sklearn import datasets\n",
    "from sklearn.linear_model import LogisticRegression\n",
    "X_sc, y_sc = load_breast_cancer(return_X_y = True)\n",
    "clf = LogisticRegression(random_state=0,solver='liblinear',multi_class='auto').fit(X_train_2class, t_train_2class)\n",
    "prediction = clf.predict(X_test_2class)\n",
    "print(prediction)\n",
    "#print(\"------------------------------------------------------\")\n",
    "#print(t_test)"
   ]
  },
  {
   "cell_type": "code",
   "execution_count": 26,
   "metadata": {},
   "outputs": [
    {
     "name": "stdout",
     "output_type": "stream",
     "text": [
      "(114,)\n",
      "Precise = 0.961038961038961\n",
      "\n",
      "Recall = 0.9866666666666667\n",
      "\n",
      "The missclassification rate is :0.03508771929824561\n",
      "\n",
      "The F1_score is: 0.9736842105263157\n",
      "\n",
      "[0. 0. 0. 0. 0. 0. 0. 0. 0. 0. 0. 0. 0. 0. 0. 0. 0. 1. 0. 0. 0. 0. 0. 1.\n",
      " 1. 0. 0. 0. 0. 0. 0. 0. 0. 0. 0. 0. 0. 0. 0. 1. 1. 1. 1. 1. 1. 1. 1. 1.\n",
      " 1. 1. 1. 1. 1. 1. 1. 1. 1. 1. 1. 1. 1. 1. 1. 1. 1. 1. 1. 1. 1. 1. 1. 1.\n",
      " 1. 1. 1. 1. 1. 1. 1. 1. 1. 1. 1. 1. 1. 1. 1. 1. 1. 1. 1. 1. 1. 1. 1. 1.\n",
      " 1. 1. 1. 1. 1. 1. 1. 1. 1. 0. 1. 1. 1. 1. 1. 1. 1. 1.]\n",
      "[0. 0. 0. 0. 0. 0. 0. 0. 0. 0. 0. 0. 0. 0. 0. 0. 0. 1. 0. 0. 0. 0. 0. 1.\n",
      " 1. 0. 0. 0. 0. 0. 0. 0. 0. 0. 0. 0. 0. 0. 0. 1. 1. 1. 1. 1. 1. 1. 1. 1.\n",
      " 1. 1. 1. 1. 1. 1. 1. 1. 1. 1. 1. 1. 1. 1. 1. 1. 1. 1. 1. 1. 1. 1. 1. 1.\n",
      " 1. 1. 1. 1. 1. 1. 1. 1. 1. 1. 1. 1. 1. 1. 1. 1. 1. 1. 1. 1. 1. 1. 1. 1.\n",
      " 1. 1. 1. 1. 1. 1. 1. 1. 1. 0. 1. 1. 1. 1. 1. 1. 1. 1.]\n"
     ]
    }
   ],
   "source": [
    "print(t_test.shape)\n",
    "precise1,recall1,miss_classification_rate1,F1_score1 = outputPR(prediction,t_test_2class)\n",
    "print('Precise = ' + str(precise1) + '\\n')\n",
    "print('Recall = ' + str(recall1) + '\\n')\n",
    "\n",
    "print('The missclassification rate is :' + str(miss_classification_rate1)+'\\n')\n",
    "print('The F1_score is: ' + str(F1_score1) + '\\n')\n",
    "\n",
    "\n",
    "print(y_test)\n",
    "print(prediction)"
   ]
  }
 ],
 "metadata": {
  "interpreter": {
   "hash": "7b4b4feff2f24a0f0a34464dbe537a36fda679851528fb8735cb41fa49dffb2d"
  },
  "kernelspec": {
   "display_name": "Python 3.8.8 64-bit ('base': conda)",
   "name": "python3"
  },
  "language_info": {
   "codemirror_mode": {
    "name": "ipython",
    "version": 3
   },
   "file_extension": ".py",
   "mimetype": "text/x-python",
   "name": "python",
   "nbconvert_exporter": "python",
   "pygments_lexer": "ipython3",
   "version": "3.8.8"
  },
  "orig_nbformat": 2
 },
 "nbformat": 4,
 "nbformat_minor": 2
}
