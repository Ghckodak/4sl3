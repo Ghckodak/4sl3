{
 "cells": [
  {
   "cell_type": "code",
   "execution_count": 49,
   "source": [
    "import numpy as np\r\n",
    "import matplotlib.pyplot as plt\r\n",
    "import pandas as pd\r\n",
    "from sklearn.datasets import load_boston\r\n",
    "from sklearn.model_selection import train_test_split \r\n",
    "from sklearn.model_selection import KFold\r\n",
    "\r\n",
    "boston=load_boston\r\n",
    "X_data,t=load_boston(return_X_y=True) \r\n",
    "# split the data into training and validation set   \r\n",
    "X_train, X_valid, t_train, t_valid = train_test_split(X_data,t,test_size=1/5, random_state=10) "
   ],
   "outputs": [],
   "metadata": {}
  },
  {
   "cell_type": "code",
   "execution_count": 50,
   "source": [
    "N = len(X_train)\r\n",
    "M = len(X_valid)\r\n",
    "\r\n",
    "def FSS(K, X_train, X_valid, t_train, t_valid):\r\n",
    "    N = len(X_train)\r\n",
    "    M = len(X_valid)\r\n",
    "\r\n",
    "    S = np.ones((M,1))\r\n",
    "    S_index = np.array([-1])\r\n",
    "    # compute the distance between each valid and train points\r\n",
    "    dist_temp = np.zeros((M,N))\r\n",
    "    # sort distances for each validation point\r\n",
    "    \r\n",
    "    y = np.zeros((K,M))\r\n",
    "    RMSE = np.zeros(K)\r\n",
    "\r\n",
    "    for k in range (K):\r\n",
    "        if (k in S_index)==False:   #跳过已经加入的特征\r\n",
    "            X_train_temp=np.column_stack((S,X_train[:,k]))\r\n",
    "            X_valid_temp=np.column_stack((S,X_valid[:,k]))  \r\n",
    "\r\n",
    "        for i in range (M): # loop through each valid points\r\n",
    "            for j in range (N): # loop through each train points\r\n",
    "                diff=X_valid_temp[i]-X_train_temp[j]\r\n",
    "                dist_temp[i,j]=np.dot(diff,diff) #squared euclidian distance\r\n",
    "        ind_temp = np.argsort(dist_temp, axis=1)  # the kth smallest element on row i is dist[i,ind[i,k]]\r\n",
    "\r\n",
    "        for i in range(M):  #遍历验证集，计算error\r\n",
    "            for s in range(k):  # compute the avg\r\n",
    "                y[k,i] += t_train[ind_temp[i,s]]    \r\n",
    "            y[k,i] /= (k+1)\r\n",
    "        z =  np.subtract(t_valid,y[k,:])\r\n",
    "        err = np.dot(z,z)/M\r\n",
    "        RMSE[k] = np.sqrt(err)  #将k时的error存储在RMSE里\r\n",
    "    \r\n",
    "    minIndex=np.argmin(RMSE)    # find the min index for RMSE\r\n",
    "    S=np.column_stack((S,X_train[:,minIndex]))  # 添加该特征\r\n",
    "    np.append(S_index,minIndex)\r\n",
    "    ````\r\n"
   ],
   "outputs": [],
   "metadata": {}
  },
  {
   "cell_type": "code",
   "execution_count": 51,
   "source": [
    "def kNN(K, X_train_one, X_valid_one, t_train, t_valid):\r\n",
    "\r\n",
    "    N = len(X_train)\r\n",
    "    M = len(X_valid)\r\n",
    "    #compute distances from validation points to training points\r\n",
    "    dist_one = np.zeros((M,N))\r\n",
    "\r\n",
    "    for i in range(M):\r\n",
    "        for j in range(N):\r\n",
    "            z = (X_valid_one[i]-X_train_one[j])\r\n",
    "            dist_one[i,j] = z*z\r\n",
    "    #sort distances for each x_i\r\n",
    "    ind_one = np.argsort(dist_one, axis=1) # dist(i,ind[k]) is the kth smallest distance to x_i\r\n",
    "    #implement kNN with one feature\r\n",
    "\r\n",
    "    y_one = np.zeros(M) # row k stores predictions made by (k+1)-NN\r\n",
    "    err_one = np.zeros(K)\r\n",
    "\r\n",
    "    for i in range(M):\r\n",
    "        #compute prediction for x_i\r\n",
    "        for s in range(K):\r\n",
    "             y_one[i] += t_train[ind_one[i,s]]\r\n",
    "        y_one[i] /= (K+1)\r\n",
    "        # compute error for this k\r\n",
    "    z = y_one- t_valid\r\n",
    "    err_one= np.dot(z,z)/M\r\n",
    "    RMSE_one = np.sqrt(err_one)\r\n",
    "\r\n",
    "    return RMSE_one"
   ],
   "outputs": [],
   "metadata": {}
  },
  {
   "cell_type": "code",
   "execution_count": 52,
   "source": [
    "def kFold(splits, X, t):\r\n",
    "    kf=KFold(n_splits=splits)\r\n",
    "    for train_index, test_index in kf.split(X):\r\n",
    "        print(test_index)\r\n",
    "        X_train, X_test = X[train_index], X[test_index]\r\n",
    "        t_train, t_test = t[train_index], t[test_index]\r\n",
    "        RMSE=RMSE+linearRegression(X_train,X_test)\r\n",
    "    error =RMSE/splits\r\n",
    "\r\n",
    "    return error\r\n",
    "    "
   ],
   "outputs": [],
   "metadata": {}
  },
  {
   "cell_type": "code",
   "execution_count": 53,
   "source": [
    "x=kFold(10,X_train,t_train)\r\n"
   ],
   "outputs": [
    {
     "output_type": "stream",
     "name": "stdout",
     "text": [
      "[ 0  1  2  3  4  5  6  7  8  9 10 11 12 13 14 15 16 17 18 19 20 21 22 23\n",
      " 24 25 26 27 28 29 30 31 32 33 34 35 36 37 38 39 40]\n",
      "[41 42 43 44 45 46 47 48 49 50 51 52 53 54 55 56 57 58 59 60 61 62 63 64\n",
      " 65 66 67 68 69 70 71 72 73 74 75 76 77 78 79 80 81]\n",
      "[ 82  83  84  85  86  87  88  89  90  91  92  93  94  95  96  97  98  99\n",
      " 100 101 102 103 104 105 106 107 108 109 110 111 112 113 114 115 116 117\n",
      " 118 119 120 121 122]\n",
      "[123 124 125 126 127 128 129 130 131 132 133 134 135 136 137 138 139 140\n",
      " 141 142 143 144 145 146 147 148 149 150 151 152 153 154 155 156 157 158\n",
      " 159 160 161 162 163]\n",
      "[164 165 166 167 168 169 170 171 172 173 174 175 176 177 178 179 180 181\n",
      " 182 183 184 185 186 187 188 189 190 191 192 193 194 195 196 197 198 199\n",
      " 200 201 202 203]\n",
      "[204 205 206 207 208 209 210 211 212 213 214 215 216 217 218 219 220 221\n",
      " 222 223 224 225 226 227 228 229 230 231 232 233 234 235 236 237 238 239\n",
      " 240 241 242 243]\n",
      "[244 245 246 247 248 249 250 251 252 253 254 255 256 257 258 259 260 261\n",
      " 262 263 264 265 266 267 268 269 270 271 272 273 274 275 276 277 278 279\n",
      " 280 281 282 283]\n",
      "[284 285 286 287 288 289 290 291 292 293 294 295 296 297 298 299 300 301\n",
      " 302 303 304 305 306 307 308 309 310 311 312 313 314 315 316 317 318 319\n",
      " 320 321 322 323]\n",
      "[324 325 326 327 328 329 330 331 332 333 334 335 336 337 338 339 340 341\n",
      " 342 343 344 345 346 347 348 349 350 351 352 353 354 355 356 357 358 359\n",
      " 360 361 362 363]\n",
      "[364 365 366 367 368 369 370 371 372 373 374 375 376 377 378 379 380 381\n",
      " 382 383 384 385 386 387 388 389 390 391 392 393 394 395 396 397 398 399\n",
      " 400 401 402 403]\n"
     ]
    },
    {
     "output_type": "error",
     "ename": "NameError",
     "evalue": "name 'RMSE' is not defined",
     "traceback": [
      "\u001b[1;31m---------------------------------------------------------------------------\u001b[0m",
      "\u001b[1;31mNameError\u001b[0m                                 Traceback (most recent call last)",
      "\u001b[1;32m<ipython-input-53-c9d198f29e49>\u001b[0m in \u001b[0;36m<module>\u001b[1;34m\u001b[0m\n\u001b[1;32m----> 1\u001b[1;33m \u001b[0mx\u001b[0m\u001b[1;33m=\u001b[0m\u001b[0mkFold\u001b[0m\u001b[1;33m(\u001b[0m\u001b[1;36m10\u001b[0m\u001b[1;33m,\u001b[0m\u001b[0mX_train\u001b[0m\u001b[1;33m,\u001b[0m\u001b[0mt_train\u001b[0m\u001b[1;33m)\u001b[0m\u001b[1;33m\u001b[0m\u001b[1;33m\u001b[0m\u001b[0m\n\u001b[0m",
      "\u001b[1;32m<ipython-input-52-3140912fb268>\u001b[0m in \u001b[0;36mkFold\u001b[1;34m(splits, X, t)\u001b[0m\n\u001b[0;32m      8\u001b[0m \u001b[1;33m\u001b[0m\u001b[0m\n\u001b[0;32m      9\u001b[0m \u001b[1;33m\u001b[0m\u001b[0m\n\u001b[1;32m---> 10\u001b[1;33m     \u001b[1;32mreturn\u001b[0m \u001b[0mRMSE\u001b[0m\u001b[1;33m\u001b[0m\u001b[1;33m\u001b[0m\u001b[0m\n\u001b[0m\u001b[0;32m     11\u001b[0m \u001b[1;33m\u001b[0m\u001b[0m\n",
      "\u001b[1;31mNameError\u001b[0m: name 'RMSE' is not defined"
     ]
    }
   ],
   "metadata": {}
  }
 ],
 "metadata": {
  "orig_nbformat": 4,
  "language_info": {
   "name": "python",
   "version": "3.8.8",
   "mimetype": "text/x-python",
   "codemirror_mode": {
    "name": "ipython",
    "version": 3
   },
   "pygments_lexer": "ipython3",
   "nbconvert_exporter": "python",
   "file_extension": ".py"
  },
  "kernelspec": {
   "name": "python3",
   "display_name": "Python 3.8.8 64-bit ('base': conda)"
  },
  "interpreter": {
   "hash": "7b4b4feff2f24a0f0a34464dbe537a36fda679851528fb8735cb41fa49dffb2d"
  }
 },
 "nbformat": 4,
 "nbformat_minor": 2
}