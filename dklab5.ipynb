{
 "cells": [
  {
   "cell_type": "code",
   "execution_count": 577,
   "metadata": {},
   "outputs": [],
   "source": [
    "import gc\n",
    "import time\n",
    "import numpy as np\n",
    "import matplotlib.pyplot as plt\n",
    "\n",
    "class job:\n",
    "    def __init__(self, phone_id, arrival_time, execution_time, upload_time):\n",
    "        self.phone_id = phone_id    # 1:good    0: bad\n",
    "        self.arrival_time = arrival_time\n",
    "        self.execution_time = execution_time\n",
    "        self.upload_time = upload_time\n",
    "\n",
    "class station:\n",
    "    def __init__(self, queue):\n",
    "        self.queue = queue"
   ]
  },
  {
   "cell_type": "code",
   "execution_count": 578,
   "metadata": {},
   "outputs": [],
   "source": [
    "def schedule_new_arrival():     # schedule poisson arrival\n",
    "    global next_arrival_time\n",
    "    if (time.process_time()  >= next_arrival_time):\n",
    "        new_arrival()\n",
    "        next_arrival_time = time.process_time()  + np.random.poisson( 1/arrival_rate )\n",
    "\n",
    "def new_arrival():\n",
    "    global base_station\n",
    "    phone_id = np.random.randint(2)     # assign job to good/bad phones\n",
    "    if phone_id == 1:\n",
    "        new = job(phone_id, time.process_time() , J_g, U_g)   # initilize job\n",
    "    else:\n",
    "        new = job(phone_id, time.process_time() , J_b, U_b)\n",
    "        \n",
    "    base_station.queue.append(new)      # put in station queue\n",
    "\n",
    "\n",
    "def forward_to_server():\n",
    "    global base_station\n",
    "    global server\n",
    "    global station_status\n",
    "    global station_departure_time\n",
    "\n",
    "    if len(base_station.queue) !=0:\n",
    "        if station_status:  \n",
    "            station_departure_time = time.process_time()  + base_station.queue[0].upload_time\n",
    "            station_status = False\n",
    "\n",
    "        if time.process_time() >=station_departure_time:  # check if the upload is done\n",
    "            server.queue.append(base_station.queue[0])      # upload to server queue\n",
    "            del base_station.queue[0]       # delete from station queue\n",
    "            station_status = True\n",
    "\n",
    "\n",
    "def server_process():\n",
    "    global delay_1\n",
    "    global delay_0\n",
    "    global served\n",
    "    global server\n",
    "    global server_status\n",
    "    global server_departure_time\n",
    "\n",
    "    index = 0\n",
    "\n",
    "    if len(server.queue) !=0:\n",
    "        if server_status:\n",
    "            \n",
    "            server_departure_time = time.process_time()  + server.queue[index].execution_time   # execute the job first\n",
    "            server_status = False\n",
    "\n",
    "        if time.process_time() >=server_departure_time:  # check if the upload is done\n",
    "            if server.queue[index].phone_id == 1:\n",
    "                delay_1 = delay_1+time.process_time() -server.queue1[index].arrival_time\n",
    "            else:\n",
    "                delay_0 = delay_0+time.process_time() -server.queue2[index].arrival_time\n",
    "\n",
    "            del server.queue[index] \n",
    "            server_status = True\n",
    "            served = served + 1\n",
    "\n",
    "def initilize():\n",
    "\n",
    "    global base_station \n",
    "    global server\n",
    "    global served\n",
    "    global delay_1\n",
    "    global delay_0\n",
    "    global J_g\n",
    "    global J_b\n",
    "    global U_g \n",
    "    global U_b\n",
    "    global arrival_rate\n",
    "    global next_arrival_time\n",
    "    global station_status\n",
    "    global server_status\n",
    "\n",
    "    base_station = station([])\n",
    "    server = station([])\n",
    "    served = 0\n",
    "    delay_1 = 0\n",
    "    delay_0 = 0\n",
    "    J_g = 0.01\n",
    "    J_b = J_g\n",
    "    U_g = 0.02\n",
    "    U_b = 10*U_g\n",
    "    arrival_rate = 0\n",
    "    next_arrival_time = 0\n",
    "    station_status = True\n",
    "    server_status = True\n",
    "\n",
    "def clear():\n",
    "    for value in globals().items():\n",
    "        del value\n",
    "    gc.collect()\n"
   ]
  },
  {
   "cell_type": "code",
   "execution_count": 579,
   "metadata": {},
   "outputs": [
    {
     "name": "stdout",
     "output_type": "stream",
     "text": [
      "iteration 0 done\n",
      "iteration 1 done\n",
      "iteration 2 done\n",
      "iteration 3 done\n",
      "iteration 4 done\n",
      "iteration 5 done\n",
      "iteration 6 done\n",
      "iteration 7 done\n",
      "iteration 8 done\n",
      "iteration 9 done\n"
     ]
    }
   ],
   "source": [
    "mean_delay_1=[]\n",
    "mean_delay_0=[]\n",
    "x_axis = []\n",
    "\n",
    "for i in range(10):\n",
    "    clear()\n",
    "    initilize()\n",
    "    arrival_rate = 5*(i+1)\n",
    "    x_axis.append(arrival_rate)\n",
    "    while served<=10:\n",
    "        schedule_new_arrival()\n",
    "        forward_to_server()\n",
    "        server_process()\n",
    "    \n",
    "    print('iteration '+str(i)+' done')\n",
    "\n",
    "    mean_delay_1.append(delay_1/10)\n",
    "    mean_delay_0.append(delay_0/10)"
   ]
  },
  {
   "cell_type": "code",
   "execution_count": 595,
   "metadata": {},
   "outputs": [
    {
     "name": "stdout",
     "output_type": "stream",
     "text": [
      "[0.0953125, 0.15625, 0.40625, 0.334375, 0.4578125, 0.5, 0.5275, 0.5534375, 0.5515625, 0.6365625] [0.07, 0.1025, 0.2053125, 0.2765625, 0.341875, 0.434375, 0.4503125, 0.500625, 0.5046875, 0.55375]\n"
     ]
    },
    {
     "data": {
      "text/plain": [
       "<matplotlib.legend.Legend at 0x1eb560cafd0>"
      ]
     },
     "execution_count": 595,
     "metadata": {},
     "output_type": "execute_result"
    },
    {
     "data": {
      "image/png": "[encoded data removed]",
      "text/plain": [
       "<Figure size 432x288 with 1 Axes>"
      ]
     },
     "metadata": {
      "needs_background": "light"
     },
     "output_type": "display_data"
    }
   ],
   "source": [
    "plt.plot(x_axis, np.asarray(mean_delay_0)/1.4*10, color='b',label='bad')\n",
    "plt.plot(x_axis, np.asarray(mean_delay_1)/1.4*10, color='r',label='good')\n",
    "plt.xlabel('Arrival rate')\n",
    "plt.ylabel('Mean delay')\n",
    "plt.title('Mean delay of each devices')\n",
    "plt.legend()"
   ]
  },
  {
   "cell_type": "code",
   "execution_count": 581,
   "metadata": {},
   "outputs": [
    {
     "data": {
      "text/plain": [
       "[]"
      ]
     },
     "execution_count": 581,
     "metadata": {},
     "output_type": "execute_result"
    }
   ],
   "source": [
    "server.queue"
   ]
  }
 ],
 "metadata": {
  "interpreter": {
   "hash": "7b4b4feff2f24a0f0a34464dbe537a36fda679851528fb8735cb41fa49dffb2d"
  },
  "kernelspec": {
   "display_name": "Python 3.8.8 64-bit ('base': conda)",
   "language": "python",
   "name": "python3"
  },
  "language_info": {
   "codemirror_mode": {
    "name": "ipython",
    "version": 3
   },
   "file_extension": ".py",
   "mimetype": "text/x-python",
   "name": "python",
   "nbconvert_exporter": "python",
   "pygments_lexer": "ipython3",
   "version": "3.8.8"
  },
  "orig_nbformat": 4
 },
 "nbformat": 4,
 "nbformat_minor": 2
}
