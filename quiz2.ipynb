{
 "cells": [
  {
   "cell_type": "code",
   "execution_count": 40,
   "source": [
    "import numpy as np"
   ],
   "outputs": [],
   "metadata": {}
  },
  {
   "cell_type": "code",
   "execution_count": 41,
   "source": [
    "X_tr=np.matrix('2 ;6 ;0')\r\n",
    "new_col=np.ones(len(X_tr))\r\n",
    "X=np.insert(X_tr, 0, new_col,axis=1)\r\n",
    "A=np.dot(X.T, X)\r\n",
    "\r\n",
    "t=np.matrix('9;7;10')\r\n",
    "b=np.dot(X.T, t)\r\n",
    "print(b)"
   ],
   "outputs": [
    {
     "output_type": "stream",
     "name": "stdout",
     "text": [
      "[[26]\n",
      " [60]]\n"
     ]
    }
   ],
   "metadata": {}
  },
  {
   "cell_type": "code",
   "execution_count": 42,
   "source": [
    "A1=np.linalg.inv(A) #the inverse of A\r\n",
    "\r\n",
    "w=np.dot(A1,b)\r\n",
    "print(w)"
   ],
   "outputs": [
    {
     "output_type": "stream",
     "name": "stdout",
     "text": [
      "[[10. ]\n",
      " [-0.5]]\n"
     ]
    }
   ],
   "metadata": {}
  },
  {
   "cell_type": "code",
   "execution_count": 44,
   "source": [
    "y=np.dot(X,w)\r\n",
    "diff=np.subtract(t,y)\r\n",
    "err_tr=np.dot(diff.T,diff)/len(X_tr)\r\n",
    "print(err_tr)"
   ],
   "outputs": [
    {
     "output_type": "stream",
     "name": "stdout",
     "text": [
      "[[3.15544362e-30]]\n"
     ]
    }
   ],
   "metadata": {}
  }
 ],
 "metadata": {
  "orig_nbformat": 4,
  "language_info": {
   "name": "python",
   "version": "3.8.8",
   "mimetype": "text/x-python",
   "codemirror_mode": {
    "name": "ipython",
    "version": 3
   },
   "pygments_lexer": "ipython3",
   "nbconvert_exporter": "python",
   "file_extension": ".py"
  },
  "kernelspec": {
   "name": "python3",
   "display_name": "Python 3.8.8 64-bit ('base': conda)"
  },
  "interpreter": {
   "hash": "7b4b4feff2f24a0f0a34464dbe537a36fda679851528fb8735cb41fa49dffb2d"
  }
 },
 "nbformat": 4,
 "nbformat_minor": 2
}