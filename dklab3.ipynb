{
 "cells": [
  {
   "cell_type": "code",
   "execution_count": 33,
   "metadata": {},
   "outputs": [],
   "source": [
    "import numpy as np\n",
    "import matplotlib.pyplot as plt\n",
    "import time\n",
    "\n",
    "def initialzie():\n",
    "    global call_arrival_rate    # call per minute\n",
    "    global serviceTime  # in sec\n",
    "    global queue\n",
    "    global queueSize\n",
    "    global runLength\n",
    "    global server\n",
    "    global hangUpTime\n",
    "    global hangUpCount\n",
    "    global rejectCount\n",
    "    global servicedCount\n",
    "    global arrivalCount\n",
    "    global totalWaitingTime\n",
    "    global serverNumber\n",
    "    global waitingTime\n",
    "    global orderCount\n",
    "\n",
    "    \n",
    "    call_arrival_rate = 1*50000\n",
    "    serviceTime = 10/100    # avg 10 for sending a passanger to dest.\n",
    "    hangUpTime = 15/100     # avg 15 for a passanger to give up waiting\n",
    "    waitingTime = 5/100    # avg 5 for a taxi to arrive\n",
    "    queue = []\n",
    "    serverNumber = 10   # 10 taxis\n",
    "    server = [0] * serverNumber\n",
    "    queueSize = serverNumber\n",
    "    arrivalCount = 0\n",
    "    servicedCount = 0\n",
    "    rejectCount = 0\n",
    "    runLength = 0\n",
    "    hangUpCount = 0\n",
    "    totalWaitingTime = 0\n",
    "    orderCount = 0\n",
    "    \n"
   ]
  },
  {
   "cell_type": "code",
   "execution_count": 34,
   "metadata": {},
   "outputs": [],
   "source": [
    "class call:\n",
    "    def __init__(self, arrivalTime, waitingTime, serviceTime, departureTime):\n",
    "        self.arrivalTime = arrivalTime\n",
    "        self.waitingTime = waitingTime\n",
    "        self.serviceTime = serviceTime\n",
    "        self.departureTime = departureTime"
   ]
  },
  {
   "cell_type": "code",
   "execution_count": 35,
   "metadata": {},
   "outputs": [],
   "source": [
    "def scheduleNewArrival():\n",
    "    nextArrivalTime = time.time() + np.random.exponential( 1/call_arrival_rate )\n",
    "    if (time.time() >= nextArrivalTime):\n",
    "        newArrival()\n",
    "        \n",
    "\n",
    "def newArrival():\n",
    "    global arrivalCount\n",
    "    global queueSize\n",
    "    global rejectCount\n",
    "    global queue\n",
    "    global serviceTime\n",
    "    global waitingTime\n",
    "    global orderCount\n",
    "\n",
    "    new = call(time.time(),np.random.exponential(waitingTime), np.random.exponential(serviceTime),0)\n",
    "    arrivalCount = arrivalCount + 1\n",
    "    if 0 in server:     # only start the service when there is a free taxi \n",
    "        queue.append(new)\n",
    "        orderCount = orderCount + 1\n",
    "    else:\n",
    "        rejectCount = rejectCount + 1\n",
    "\n",
    "def checkQueue():\n",
    "    global hangUpTime\n",
    "    global hangUpCount\n",
    "    global queue\n",
    "    for call in queue:\n",
    "        if (time.time() - call.arrivalTime > np.random.exponential(hangUpTime)):\n",
    "            queue.remove(call)   # hang up the call and delete from list\n",
    "            hangUpCount = hangUpCount + 1\n",
    "\n",
    "def enterServer():\n",
    "    global queue\n",
    "    global server\n",
    "    global totalWaitingTime\n",
    "    if len(queue) !=0:\n",
    "        if 0 in server:\n",
    "            for call in queue:\n",
    "                if time.time() - call.arrivalTime >= call.waitingTime:\n",
    "                    call.departureTime = time.time() + call.serviceTime\n",
    "                    index = findEmpty(server)\n",
    "                    server[index] = call\n",
    "                    queue.remove(call)\n",
    "                    \n",
    "def departure():\n",
    "    global server\n",
    "    global servicedCount\n",
    "    for i in range(len(server)):\n",
    "        if server[i] !=0:\n",
    "            if time.time() > server[i].departureTime:\n",
    "                server[i] = 0\n",
    "                servicedCount = servicedCount + 1\n",
    "\n",
    "\n",
    "def findEmpty(List):\n",
    "    for i in range(len(List)):\n",
    "        if List[i]==0:\n",
    "            break\n",
    "    return i\n",
    "\n",
    "\n",
    "def simulate():\n",
    "    scheduleNewArrival()\n",
    "    checkQueue()\n",
    "    enterServer()\n",
    "    departure()"
   ]
  },
  {
   "cell_type": "code",
   "execution_count": 36,
   "metadata": {},
   "outputs": [
    {
     "name": "stdout",
     "output_type": "stream",
     "text": [
      "done\n",
      "[0.8324078748107017]\n",
      "done\n",
      "[0.8324078748107017, 0.9415625661655728]\n",
      "done\n",
      "[0.8324078748107017, 0.9415625661655728, 0.9648]\n",
      "done\n",
      "[0.8324078748107017, 0.9415625661655728, 0.9648, 0.9768]\n",
      "done\n",
      "[0.8324078748107017, 0.9415625661655728, 0.9648, 0.9768, 0.9814]\n",
      "done\n",
      "[0.8324078748107017, 0.9415625661655728, 0.9648, 0.9768, 0.9814, 0.9832]\n"
     ]
    }
   ],
   "source": [
    "blockP = []\n",
    "leaveP = []\n",
    "for i in [1,3,5,7,9,11]:\n",
    "    initialzie()\n",
    "    waitingTime = i/100\n",
    "    \n",
    "    while arrivalCount < 5000:\n",
    "        simulate()\n",
    "    print(\"done\")\n",
    "\n",
    "    blockP.append(rejectCount/arrivalCount)\n",
    "    leaveP.append(hangUpCount/orderCount)\n",
    "    print(leaveP)\n"
   ]
  },
  {
   "cell_type": "code",
   "execution_count": 38,
   "metadata": {},
   "outputs": [
    {
     "data": {
      "text/plain": [
       "Text(0.5, 1.0, 'Blocking Prob vs. Waiting time')"
      ]
     },
     "execution_count": 38,
     "metadata": {},
     "output_type": "execute_result"
    },
    {
     "data": {
      "image/png": "[encoded data removed]",
      "text/plain": [
       "<Figure size 432x288 with 1 Axes>"
      ]
     },
     "metadata": {
      "needs_background": "light"
     },
     "output_type": "display_data"
    }
   ],
   "source": [
    "from scipy.interpolate import make_interp_spline\n",
    "a = [1,3,5,7,9,11]\n",
    "l = [1*x for x in blockP]\n",
    "y = np.asarray(l)\n",
    "x = np.asarray(a)\n",
    "X_Y_Spline = make_interp_spline(x, y)\n",
    "X_ = np.linspace(x.min(), x.max(), 100)\n",
    "Y_ = X_Y_Spline(X_)\n",
    "plt.plot(X_, Y_)\n",
    "#plt.ylim([0, 1])\n",
    "plt.xlabel(\"Waiting time\")\n",
    "#plt.ylabel(\"Customer leaving Prob\")\n",
    "plt.ylabel(\"Blocking Prob\")\n",
    "plt.title(\"Blocking Prob vs. Waiting time\")"
   ]
  }
 ],
 "metadata": {
  "interpreter": {
   "hash": "7b4b4feff2f24a0f0a34464dbe537a36fda679851528fb8735cb41fa49dffb2d"
  },
  "kernelspec": {
   "display_name": "Python 3.8.8 64-bit ('base': conda)",
   "name": "python3"
  },
  "language_info": {
   "codemirror_mode": {
    "name": "ipython",
    "version": 3
   },
   "file_extension": ".py",
   "mimetype": "text/x-python",
   "name": "python",
   "nbconvert_exporter": "python",
   "pygments_lexer": "ipython3",
   "version": "3.8.8"
  },
  "orig_nbformat": 4
 },
 "nbformat": 4,
 "nbformat_minor": 2
}
