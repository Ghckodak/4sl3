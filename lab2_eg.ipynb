{
 "cells": [
  {
   "cell_type": "code",
   "execution_count": 1,
   "source": [
    "import numpy as np\r\n",
    "import matplotlib.pyplot as plt\r\n",
    "import pandas as pd\r\n",
    "from sklearn.datasets import load_diabetes\r\n",
    "diabetes=load_diabetes\r\n",
    "X_data,t=load_diabetes(return_X_y=True)    \r\n",
    "from sklearn.model_selection import train_test_split    \r\n",
    "X_train, X_valid, t_train, t_valid = train_test_split(X_data,t,test_size=1/5, random_state=10) "
   ],
   "outputs": [],
   "metadata": {}
  },
  {
   "cell_type": "code",
   "execution_count": 3,
   "source": [
    "N=len(X_train)\r\n",
    "M=len(X_valid)"
   ],
   "outputs": [],
   "metadata": {}
  },
  {
   "cell_type": "code",
   "execution_count": 9,
   "source": [
    "dist=np.zeros((M,N))\r\n",
    "\r\n",
    "for i in range (M):\r\n",
    "    for j in range (N):\r\n",
    "        diff=X_valid[i]-X_train[j]\r\n",
    "        dist[i,j]=np.dot(diff,diff)\r\n",
    "\r\n",
    "print (dist[:4,:4])"
   ],
   "outputs": [
    {
     "output_type": "stream",
     "name": "stdout",
     "text": [
      "[[0.04404616 0.04007061 0.03948468 0.0388489 ]\n",
      " [0.03201822 0.01816768 0.03584266 0.02093733]\n",
      " [0.02251777 0.02951239 0.0143508  0.0356887 ]\n",
      " [0.03962282 0.04531473 0.02384332 0.02962741]]\n"
     ]
    }
   ],
   "metadata": {}
  },
  {
   "cell_type": "code",
   "execution_count": 10,
   "source": [
    "# sort\r\n",
    "ind=np.argsort(dist,axis=1)     # the kth smallest element on row i is dist [ind[k]]"
   ],
   "outputs": [],
   "metadata": {}
  },
  {
   "cell_type": "code",
   "execution_count": null,
   "source": [
    "K=N\r\n",
    "for k in range(K):\r\n",
    "    for i in range(M):\r\n",
    "        \r\n"
   ],
   "outputs": [],
   "metadata": {}
  }
 ],
 "metadata": {
  "orig_nbformat": 4,
  "language_info": {
   "name": "python",
   "version": "3.8.8",
   "mimetype": "text/x-python",
   "codemirror_mode": {
    "name": "ipython",
    "version": 3
   },
   "pygments_lexer": "ipython3",
   "nbconvert_exporter": "python",
   "file_extension": ".py"
  },
  "kernelspec": {
   "name": "python3",
   "display_name": "Python 3.8.8 64-bit ('base': conda)"
  },
  "interpreter": {
   "hash": "7b4b4feff2f24a0f0a34464dbe537a36fda679851528fb8735cb41fa49dffb2d"
  }
 },
 "nbformat": 4,
 "nbformat_minor": 2
}