{
 "cells": [
  {
   "cell_type": "code",
   "execution_count": 18,
   "metadata": {},
   "outputs": [],
   "source": [
    "import numpy as np\n",
    "import matplotlib.pyplot as plt\n",
    "import pandas as pd\n",
    "from sklearn.datasets import load_diabetes\n",
    "from sklearn.model_selection import train_test_split \n",
    "\n",
    "diabetes=load_diabetes\n",
    "X_data,t=load_diabetes(return_X_y=True) \n",
    "# split the data into training and validation set   \n",
    "X_train, X_valid, t_train, t_valid = train_test_split(X_data,t,test_size=1/5, random_state=10) "
   ]
  },
  {
   "cell_type": "code",
   "execution_count": 19,
   "metadata": {},
   "outputs": [],
   "source": [
    "N=len(X_train)\n",
    "M=len(X_valid)"
   ]
  },
  {
   "cell_type": "code",
   "execution_count": 20,
   "metadata": {},
   "outputs": [
    {
     "name": "stdout",
     "output_type": "stream",
     "text": [
      "[[0.04404616 0.04007061 0.03948468 0.0388489 ]\n",
      " [0.03201822 0.01816768 0.03584266 0.02093733]\n",
      " [0.02251777 0.02951239 0.0143508  0.0356887 ]\n",
      " [0.03962282 0.04531473 0.02384332 0.02962741]]\n"
     ]
    }
   ],
   "source": [
    "# compute the distance between each valid and train points\n",
    "dist=np.zeros((M,N))\n",
    "\n",
    "for i in range (M): # loop through each valid points\n",
    "    for j in range (N): # loop through each train points\n",
    "        diff=X_valid[i]-X_train[j]\n",
    "        dist[i,j]=np.dot(diff,diff) #squared euclidian distance\n",
    "\n",
    "print (dist[:4,:4])"
   ]
  },
  {
   "cell_type": "code",
   "execution_count": 21,
   "metadata": {},
   "outputs": [],
   "source": [
    "# sort the distance\n",
    "ind=np.argsort(dist,axis=1)     # the kth smallest element on row i is dist [ind[i,k]]    (axis=1: sort each rows)"
   ]
  },
  {
   "cell_type": "code",
   "execution_count": 22,
   "metadata": {},
   "outputs": [],
   "source": [
    "K=N\n",
    "y=np.zeros((K,M))\n",
    "err=np.zeros(K)\n",
    "for k in range(K):  # loop through (k+1) NN\n",
    "    for i in range(M):\n",
    "        for s in range(k):\n",
    "            y[k,i]+=t_train[ind[i,s]]\n",
    "        y[k,i]/=(k+1)\n",
    "    z=np.subtract(t_valid,y[k,:])\n",
    "    err[k]=np.dot(z,z)/M\n",
    "    RMSE=np.sqrt(err)\n"
   ]
  },
  {
   "cell_type": "code",
   "execution_count": 23,
   "metadata": {},
   "outputs": [
    {
     "data": {
      "image/png": "[encoded data removed]",
      "text/plain": [
       "<Figure size 432x288 with 1 Axes>"
      ]
     },
     "metadata": {
      "needs_background": "light"
     },
     "output_type": "display_data"
    }
   ],
   "source": [
    "arr=np.arange(K)+1\n",
    "plt.plot(arr,err,'ob')\n",
    "plt.xlabel(\"k\")\n",
    "plt.ylabel(\"error\")\n",
    "plt.show()"
   ]
  }
 ],
 "metadata": {
  "interpreter": {
   "hash": "7b4b4feff2f24a0f0a34464dbe537a36fda679851528fb8735cb41fa49dffb2d"
  },
  "kernelspec": {
   "display_name": "Python 3.8.8 64-bit ('base': conda)",
   "name": "python3"
  },
  "language_info": {
   "codemirror_mode": {
    "name": "ipython",
    "version": 3
   },
   "file_extension": ".py",
   "mimetype": "text/x-python",
   "name": "python",
   "nbconvert_exporter": "python",
   "pygments_lexer": "ipython3",
   "version": "3.8.8"
  },
  "orig_nbformat": 4
 },
 "nbformat": 4,
 "nbformat_minor": 2
}
