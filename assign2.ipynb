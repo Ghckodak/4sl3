{
 "cells": [
  {
   "cell_type": "code",
   "execution_count": 146,
   "metadata": {},
   "outputs": [],
   "source": [
    "import numpy as np\n",
    "import matplotlib.pyplot as plt\n",
    "import pandas as pd\n",
    "from sklearn.datasets import load_boston\n",
    "from sklearn.model_selection import train_test_split \n",
    "from sklearn.model_selection import KFold\n",
    "\n",
    "boston=load_boston\n",
    "X_data,t=load_boston(return_X_y=True) \n",
    "# split the data into training and validation set   \n",
    "X_train, X_valid, t_train, t_valid = train_test_split(X_data,t,test_size=1/5, random_state=10) "
   ]
  },
  {
   "cell_type": "code",
   "execution_count": 147,
   "metadata": {},
   "outputs": [],
   "source": [
    "N = len(X_train)\n",
    "M = len(X_valid)\n",
    "\n",
    "\n",
    "# function of getting the predication y; Input = X, t; Output = y, w\n",
    "def getRMSE(X_train,X_valid,t_train,t_valid):\n",
    "    new_col = np.ones(len(X_train))\n",
    "    Xtr = np.column_stack((new_col,X_train))    # add a column of one\n",
    "    A = np.dot(Xtr.T,Xtr)\n",
    "    A1 = np.linalg.inv(A) #the inverse of A\n",
    "    B = np.dot(Xtr.T,t_train)\n",
    "    w =np.dot(A1,B)\n",
    "    y = np.dot(Xtr,w)\n",
    "    \n",
    "    # prepare the validation set\n",
    "    new_col_1 = np.ones(len(X_valid))\n",
    "    Xva = np.column_stack((new_col_1, X_valid))\n",
    "    y_valid = np.dot(Xva,w)\n",
    "    diff_valid = np.subtract(t_valid,y_valid)\n",
    "    err_valid = np.dot(diff_valid, diff_valid)/len(X_valid)\n",
    "    RMSE_valid = np.sqrt(err_valid)\n",
    "\n",
    "    return RMSE_valid\n"
   ]
  },
  {
   "cell_type": "code",
   "execution_count": 148,
   "metadata": {},
   "outputs": [],
   "source": [
    "def kFold(splits, X, t):\n",
    "    res = 0\n",
    "    kf=KFold(n_splits=splits)\n",
    "    for train_index, test_index in kf.split(X):\n",
    "        X_train, X_test = X[train_index], X[test_index]\n",
    "        t_train, t_test = t[train_index], t[test_index]\n",
    "\n",
    "        res = res + getRMSE(X_train,X_test,t_train,t_test)\n",
    "  \n",
    "    error = res/splits\n",
    "\n",
    "    return error    "
   ]
  },
  {
   "cell_type": "code",
   "execution_count": 149,
   "metadata": {},
   "outputs": [
    {
     "name": "stdout",
     "output_type": "stream",
     "text": [
      "(404, 13)\n"
     ]
    }
   ],
   "source": [
    "K=13\n",
    "S = np.ones((N,1))  # dummy ones\n",
    "S_index = []    # store the orginal column number\n",
    "error = np.zeros((K,1))\n",
    "existingCol = np.arange(K)\n",
    "\n",
    "for i in range(K):\n",
    "    \n",
    "    #print(existingCol)\n",
    "    if (i==0):\n",
    "        for j in existingCol:\n",
    "\n",
    "            X_train_temp=X_train[:,j]  # only select a column for the first run  \n",
    "            error[j] = kFold(5, X_train_temp, t_train)\n",
    "            S = X_train[:,np.argmin(error)]\n",
    "\n",
    "        existingCol_new =np.delete(existingCol,np.where(existingCol == np.argmin(error) ))\n",
    "        existingCol = existingCol_new\n",
    "        error = np.full((K,1),np.inf)\n",
    "\n",
    "    else:\n",
    "        for j in existingCol:\n",
    "            \n",
    "            X_train_temp = np.column_stack( (S,np.reshape(X_train[:,j], (len(X_train), 1))) ) #######\n",
    "            error[j] = kFold(5, X_train_temp, t_train)\n",
    " \n",
    "        S = np.column_stack( (S,  np.reshape(X_train[:,np.argmin(error)], (len(X_train), 1))) )\n",
    "        existingCol_new =np.delete(existingCol,np.where(existingCol == np.argmin(error) ))\n",
    "        existingCol = existingCol_new\n",
    "        error = np.full((K,1),np.inf)\n",
    "\n",
    "\n",
    "print(S.shape)\n",
    "        \n",
    "\n"
   ]
  }
 ],
 "metadata": {
  "interpreter": {
   "hash": "7b4b4feff2f24a0f0a34464dbe537a36fda679851528fb8735cb41fa49dffb2d"
  },
  "kernelspec": {
   "display_name": "Python 3.8.8 64-bit ('base': conda)",
   "name": "python3"
  },
  "language_info": {
   "codemirror_mode": {
    "name": "ipython",
    "version": 3
   },
   "file_extension": ".py",
   "mimetype": "text/x-python",
   "name": "python",
   "nbconvert_exporter": "python",
   "pygments_lexer": "ipython3",
   "version": "3.8.8"
  },
  "orig_nbformat": 4
 },
 "nbformat": 4,
 "nbformat_minor": 2
}
