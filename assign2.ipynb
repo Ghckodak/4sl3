{
 "cells": [
  {
   "cell_type": "code",
   "execution_count": 146,
   "source": [
    "import numpy as np\r\n",
    "import matplotlib.pyplot as plt\r\n",
    "import pandas as pd\r\n",
    "from sklearn.datasets import load_boston\r\n",
    "from sklearn.model_selection import train_test_split \r\n",
    "from sklearn.model_selection import KFold\r\n",
    "\r\n",
    "boston=load_boston\r\n",
    "X_data,t=load_boston(return_X_y=True) \r\n",
    "# split the data into training and validation set   \r\n",
    "X_train, X_valid, t_train, t_valid = train_test_split(X_data,t,test_size=1/5, random_state=10) "
   ],
   "outputs": [],
   "metadata": {}
  },
  {
   "cell_type": "code",
   "execution_count": 147,
   "source": [
    "N = len(X_train)\r\n",
    "M = len(X_valid)\r\n",
    "\r\n",
    "\r\n",
    "# function of getting the predication y; Input = X, t; Output = y, w\r\n",
    "def getRMSE(X_train,X_valid,t_train,t_valid):\r\n",
    "    new_col = np.ones(len(X_train))\r\n",
    "    Xtr = np.column_stack((new_col,X_train))    # add a column of one\r\n",
    "    A = np.dot(Xtr.T,Xtr)\r\n",
    "    A1 = np.linalg.inv(A) #the inverse of A\r\n",
    "    B = np.dot(Xtr.T,t_train)\r\n",
    "    w =np.dot(A1,B)\r\n",
    "    y = np.dot(Xtr,w)\r\n",
    "    \r\n",
    "    # prepare the validation set\r\n",
    "    new_col_1 = np.ones(len(X_valid))\r\n",
    "    Xva = np.column_stack((new_col_1, X_valid))\r\n",
    "    y_valid = np.dot(Xva,w)\r\n",
    "    diff_valid = np.subtract(t_valid,y_valid)\r\n",
    "    err_valid = np.dot(diff_valid, diff_valid)/len(X_valid)\r\n",
    "    RMSE_valid = np.sqrt(err_valid)\r\n",
    "\r\n",
    "    return RMSE_valid\r\n"
   ],
   "outputs": [],
   "metadata": {}
  },
  {
   "cell_type": "code",
   "execution_count": 148,
   "source": [
    "def kFold(splits, X, t):\r\n",
    "    res = 0\r\n",
    "    kf=KFold(n_splits=splits)\r\n",
    "    for train_index, test_index in kf.split(X):\r\n",
    "        X_train, X_test = X[train_index], X[test_index]\r\n",
    "        t_train, t_test = t[train_index], t[test_index]\r\n",
    "\r\n",
    "        res = res + getRMSE(X_train,X_test,t_train,t_test)\r\n",
    "  \r\n",
    "    error = res/splits\r\n",
    "\r\n",
    "    return error    "
   ],
   "outputs": [],
   "metadata": {}
  },
  {
   "cell_type": "code",
   "execution_count": 149,
   "source": [
    "K=13\r\n",
    "S = np.ones((N,1))  # dummy ones\r\n",
    "S_index = []    # store the orginal column number\r\n",
    "error = np.zeros((K,1))\r\n",
    "existingCol = np.arange(K)\r\n",
    "\r\n",
    "for i in range(K):\r\n",
    "    \r\n",
    "    #print(existingCol)\r\n",
    "    if (i==0):\r\n",
    "        for j in existingCol:\r\n",
    "\r\n",
    "            X_train_temp=X_train[:,j]  # only select a column for the first run  \r\n",
    "            error[j] = kFold(5, X_train_temp, t_train)\r\n",
    "            S = X_train[:,np.argmin(error)]\r\n",
    "\r\n",
    "        existingCol_new =np.delete(existingCol,np.where(existingCol == np.argmin(error) ))\r\n",
    "        existingCol = existingCol_new\r\n",
    "        error = np.full((K,1),np.inf)\r\n",
    "\r\n",
    "    else:\r\n",
    "        for j in existingCol:\r\n",
    "            \r\n",
    "            X_train_temp = np.column_stack( (S,np.reshape(X_train[:,j], (len(X_train), 1))) ) #######\r\n",
    "            error[j] = kFold(5, X_train_temp, t_train)\r\n",
    " \r\n",
    "        S = np.column_stack( (S,  np.reshape(X_train[:,np.argmin(error)], (len(X_train), 1))) )\r\n",
    "        existingCol_new =np.delete(existingCol,np.where(existingCol == np.argmin(error) ))\r\n",
    "        existingCol = existingCol_new\r\n",
    "        error = np.full((K,1),np.inf)\r\n",
    "\r\n",
    "\r\n",
    "print(S.shape)\r\n",
    "        \r\n",
    "\r\n"
   ],
   "outputs": [
    {
     "output_type": "stream",
     "name": "stdout",
     "text": [
      "(404, 13)\n"
     ]
    }
   ],
   "metadata": {}
  }
 ],
 "metadata": {
  "orig_nbformat": 4,
  "language_info": {
   "name": "python",
   "version": "3.8.8",
   "mimetype": "text/x-python",
   "codemirror_mode": {
    "name": "ipython",
    "version": 3
   },
   "pygments_lexer": "ipython3",
   "nbconvert_exporter": "python",
   "file_extension": ".py"
  },
  "kernelspec": {
   "name": "python3",
   "display_name": "Python 3.8.8 64-bit ('base': conda)"
  },
  "interpreter": {
   "hash": "7b4b4feff2f24a0f0a34464dbe537a36fda679851528fb8735cb41fa49dffb2d"
  }
 },
 "nbformat": 4,
 "nbformat_minor": 2
}