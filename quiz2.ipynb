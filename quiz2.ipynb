{
 "cells": [
  {
   "cell_type": "code",
   "execution_count": 40,
   "metadata": {},
   "outputs": [],
   "source": [
    "import numpy as np"
   ]
  },
  {
   "cell_type": "code",
   "execution_count": 41,
   "metadata": {},
   "outputs": [
    {
     "name": "stdout",
     "output_type": "stream",
     "text": [
      "[[26]\n",
      " [60]]\n"
     ]
    }
   ],
   "source": [
    "X_tr=np.matrix('2 ;6 ;0')\n",
    "new_col=np.ones(len(X_tr))\n",
    "X=np.insert(X_tr, 0, new_col,axis=1)\n",
    "A=np.dot(X.T, X)\n",
    "\n",
    "t=np.matrix('9;7;10')\n",
    "b=np.dot(X.T, t)\n",
    "print(b)"
   ]
  },
  {
   "cell_type": "code",
   "execution_count": 42,
   "metadata": {},
   "outputs": [
    {
     "name": "stdout",
     "output_type": "stream",
     "text": [
      "[[10. ]\n",
      " [-0.5]]\n"
     ]
    }
   ],
   "source": [
    "A1=np.linalg.inv(A) #the inverse of A\n",
    "\n",
    "w=np.dot(A1,b)\n",
    "print(w)"
   ]
  },
  {
   "cell_type": "code",
   "execution_count": 44,
   "metadata": {},
   "outputs": [
    {
     "name": "stdout",
     "output_type": "stream",
     "text": [
      "[[3.15544362e-30]]\n"
     ]
    }
   ],
   "source": [
    "y=np.dot(X,w)\n",
    "diff=np.subtract(t,y)\n",
    "err_tr=np.dot(diff.T,diff)/len(X_tr)\n",
    "print(err_tr)"
   ]
  }
 ],
 "metadata": {
  "interpreter": {
   "hash": "7b4b4feff2f24a0f0a34464dbe537a36fda679851528fb8735cb41fa49dffb2d"
  },
  "kernelspec": {
   "display_name": "Python 3.8.8 64-bit ('base': conda)",
   "name": "python3"
  },
  "language_info": {
   "codemirror_mode": {
    "name": "ipython",
    "version": 3
   },
   "file_extension": ".py",
   "mimetype": "text/x-python",
   "name": "python",
   "nbconvert_exporter": "python",
   "pygments_lexer": "ipython3",
   "version": "3.8.8"
  },
  "orig_nbformat": 4
 },
 "nbformat": 4,
 "nbformat_minor": 2
}
